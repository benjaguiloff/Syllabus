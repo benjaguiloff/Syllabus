{
  "nbformat": 4,
  "nbformat_minor": 0,
  "metadata": {
    "colab": {
      "name": "Parte_1.ipynb",
      "version": "0.3.2",
      "provenance": [],
      "collapsed_sections": []
    },
    "kernelspec": {
      "display_name": "Python 3",
      "language": "python",
      "name": "python3"
    }
  },
  "cells": [
    {
      "metadata": {
        "id": "jhxROK6Q8xW7",
        "colab_type": "text"
      },
      "cell_type": "markdown",
      "source": [
        "# Tarea Grande 1\n",
        "\n",
        "##### Nombre: COMPLETAR\n",
        "\n",
        "## Importación de librerías\n",
        "\n",
        "En la siguiente celda, se importarán las librerías que serán utilizadas para esta parte de la tarea. Si deseas utilizar una librería adicional y que no sea *built-in*, repórtala en el ```README.md``` de tu repositorio. Solo así podremos saber que necesitamos instalar algo más para ejecutar tu tarea y evaluarla."
      ]
    },
    {
      "metadata": {
        "id": "g1pM7tK88xW9",
        "colab_type": "code",
        "colab": {}
      },
      "cell_type": "code",
      "source": [
        "import pandas as pd\n",
        "import matplotlib.pyplot as plt\n",
        "import datetime\n",
        "import altair as alt"
      ],
      "execution_count": 0,
      "outputs": []
    },
    {
      "metadata": {
        "id": "VvBb3uID8xW_",
        "colab_type": "text"
      },
      "cell_type": "markdown",
      "source": [
        "## Cargar datos"
      ]
    },
    {
      "metadata": {
        "id": "Nkx44FRN9OTr",
        "colab_type": "text"
      },
      "cell_type": "markdown",
      "source": [
        "La celda siguiente descargará el archivo en la carpeta de \"la nube\" donde se encuentra este *notebook*. Tu misión será cargar los datos con la librería `pandas` en la celda subsiguiente, sabiendo que el *notebook* y los archivos están en la misma carpeta."
      ]
    },
    {
      "metadata": {
        "id": "RMw1z1-K8xXA",
        "colab_type": "code",
        "colab": {
          "base_uri": "https://localhost:8080/",
          "height": 71
        },
        "outputId": "3ea1330c-cbc0-4f5c-f986-4a28bf4e83b0"
      },
      "cell_type": "code",
      "source": [
        "# Completar\n",
        "!curl -L -o 'data-iic1005-2019.csv' 'https://github.com/Exploratorio-DCC-PUC/Syllabus/blob/master/Tareas/data-iic1005-2019.csv'"
      ],
      "execution_count": 2,
      "outputs": [
        {
          "output_type": "stream",
          "text": [
            "  % Total    % Received % Xferd  Average Speed   Time    Time     Time  Current\n",
            "                                 Dload  Upload   Total   Spent    Left  Speed\n",
            "100  650k    0  650k    0     0   705k      0 --:--:-- --:--:-- --:--:--  705k\n"
          ],
          "name": "stdout"
        }
      ]
    },
    {
      "metadata": {
        "id": "y2RiznSX9Z3n",
        "colab_type": "code",
        "colab": {}
      },
      "cell_type": "code",
      "source": [
        ""
      ],
      "execution_count": 0,
      "outputs": []
    },
    {
      "metadata": {
        "id": "e708ZbW98xXC",
        "colab_type": "text"
      },
      "cell_type": "markdown",
      "source": [
        "## Estandarizar fechas"
      ]
    },
    {
      "metadata": {
        "id": "TYDAASuQ8xXD",
        "colab_type": "code",
        "colab": {}
      },
      "cell_type": "code",
      "source": [
        "# Completar"
      ],
      "execution_count": 0,
      "outputs": []
    },
    {
      "metadata": {
        "id": "fvNyS2cE8xXF",
        "colab_type": "text"
      },
      "cell_type": "markdown",
      "source": [
        "## Gráfico de línea sobre cantidad de robos según día de la semana"
      ]
    },
    {
      "metadata": {
        "id": "xVvG4USB8xXG",
        "colab_type": "code",
        "colab": {}
      },
      "cell_type": "code",
      "source": [
        "# Completar"
      ],
      "execution_count": 0,
      "outputs": []
    },
    {
      "metadata": {
        "id": "vLpbUimv8xXI",
        "colab_type": "text"
      },
      "cell_type": "markdown",
      "source": [
        "## Gráfico de barra mes versus cantidad de robos"
      ]
    },
    {
      "metadata": {
        "id": "P4cdYzGD8xXJ",
        "colab_type": "code",
        "colab": {}
      },
      "cell_type": "code",
      "source": [
        "# Completar"
      ],
      "execution_count": 0,
      "outputs": []
    },
    {
      "metadata": {
        "id": "NmPnYEDF8xXL",
        "colab_type": "text"
      },
      "cell_type": "markdown",
      "source": [
        "## Gráficos de torta de marcas y modelos más robados"
      ]
    },
    {
      "metadata": {
        "id": "fx2b9a_18xXM",
        "colab_type": "code",
        "colab": {}
      },
      "cell_type": "code",
      "source": [
        "# Completar"
      ],
      "execution_count": 0,
      "outputs": []
    }
  ]
}